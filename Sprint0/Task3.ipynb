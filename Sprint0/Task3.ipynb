{
 "cells": [
  {
   "cell_type": "markdown",
   "metadata": {},
   "source": [
    "<h1 style=\"color:DodgerBlue\">Индивидальный проект</h1>"
   ]
  },
  {
   "cell_type": "markdown",
   "metadata": {},
   "source": [
    "<h2 style=\"color:DodgerBlue\">Название проекта:</h2>\n",
    "\n",
    "----\n",
    "\n",
    "### Вариант задания \n"
   ]
  },
  {
   "cell_type": "code",
   "execution_count": null,
   "metadata": {
    "dotnet_interactive": {
     "language": "csharp"
    },
    "polyglot_notebook": {
     "kernelName": "csharp"
    }
   },
   "outputs": [],
   "source": [
    "12"
   ]
  },
  {
   "cell_type": "markdown",
   "metadata": {},
   "source": [
    "<h2 style=\"color:DodgerBlue\">Описание проекта:</h2>\n",
    "\n",
    "----\n",
    "\n",
    "[ваш текст]\n"
   ]
  },
  {
   "cell_type": "code",
   "execution_count": null,
   "metadata": {},
   "outputs": [],
   "source": [
    "Создать базовый класс Item в C#, который будет представлять информацию о\n",
    "товарах, которые могут быть заказаны или возвращены. На основе этого класса\n",
    "разработать 2-3 производных класса, демонстрирующих принципы наследования и\n",
    "полиморфизма. В каждом из классов должны быть реализованы новые атрибуты и\n",
    "методы, а также переопределены некоторые методы базового класса для\n",
    "демонстрации полиморфизма"
   ]
  },
  {
   "cell_type": "markdown",
   "metadata": {},
   "source": [
    "<h2 style=\"color:DodgerBlue\">Реализация:</h2>\n",
    "\n",
    "----"
   ]
  },
  {
   "cell_type": "code",
   "execution_count": 2,
   "metadata": {
    "dotnet_interactive": {
     "language": "csharp"
    },
    "polyglot_notebook": {
     "kernelName": "csharp"
    }
   },
   "outputs": [],
   "source": [
    "using System;\n",
    "\n",
    "public class Item\n",
    "{\n",
    "    public int ItemId { get; set; }\n",
    "    public string Name { get; set; }\n",
    "    public decimal Price { get; set; }\n",
    "\n",
    "    public virtual void GetDetails()\n",
    "    {\n",
    "        Console.WriteLine($\"ID товара: {ItemId}, Название: {Name}, Цена: {Price:C}\");\n",
    "    }\n",
    "\n",
    "    public virtual decimal CalculateDiscount()\n",
    "    {\n",
    "        return 0;\n",
    "    }\n",
    "\n",
    "    public virtual void ApplyDiscount(decimal discount)\n",
    "    {\n",
    "        Price -= discount;\n",
    "    }\n",
    "}\n",
    "\n",
    "public class SingleItem : Item\n",
    "{\n",
    "    public string UnitMeasure { get; set; }\n",
    "\n",
    "    public override void GetDetails()\n",
    "    {\n",
    "        base.GetDetails();\n",
    "        Console.WriteLine($\"Еденица измерения: {UnitMeasure}\");\n",
    "    }\n",
    "}\n",
    "\n",
    "public class PackageItem : Item\n",
    "{\n",
    "    public int QuantityPerPackage { get; set; }\n",
    "\n",
    "    public override decimal CalculateDiscount()\n",
    "    {\n",
    "        return Price * QuantityPerPackage * 0.1m;\n",
    "    }\n",
    "}\n",
    "\n",
    "public class SpecialItem : Item\n",
    "{\n",
    "    public DateTime DiscountExpirationDate { get; set; }\n",
    "\n",
    "    public override void ApplyDiscount(decimal discount)\n",
    "    {\n",
    "        base.ApplyDiscount(discount);\n",
    "        Console.WriteLine($\"Скидка истекает: {DiscountExpirationDate:D}\");\n",
    "    }\n",
    "}"
   ]
  }
 ],
 "metadata": {
  "kernelspec": {
   "display_name": ".NET (C#)",
   "language": "C#",
   "name": ".net-csharp"
  },
  "polyglot_notebook": {
   "kernelInfo": {
    "defaultKernelName": "csharp",
    "items": [
     {
      "aliases": [],
      "languageName": "csharp",
      "name": "csharp"
     }
    ]
   }
  }
 },
 "nbformat": 4,
 "nbformat_minor": 2
}
