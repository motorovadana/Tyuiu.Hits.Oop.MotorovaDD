{
 "cells": [
  {
   "cell_type": "markdown",
   "metadata": {},
   "source": [
    "<h1 style=\"color:DodgerBlue\">Индивидальный проект</h1>"
   ]
  },
  {
   "cell_type": "markdown",
   "metadata": {},
   "source": [
    "<h2 style=\"color:DodgerBlue\">Название проекта:</h2>\n",
    "\n",
    "----\n",
    "\n",
    "### Вариант задания \n"
   ]
  },
  {
   "cell_type": "code",
   "execution_count": null,
   "metadata": {
    "dotnet_interactive": {
     "language": "csharp"
    },
    "polyglot_notebook": {
     "kernelName": "csharp"
    }
   },
   "outputs": [],
   "source": [
    "12"
   ]
  },
  {
   "cell_type": "markdown",
   "metadata": {},
   "source": [
    "<h2 style=\"color:DodgerBlue\">Описание проекта:</h2>\n",
    "\n",
    "----\n",
    "\n",
    "[ваш текст]\n"
   ]
  },
  {
   "cell_type": "code",
   "execution_count": null,
   "metadata": {
    "dotnet_interactive": {
     "language": "csharp"
    },
    "polyglot_notebook": {
     "kernelName": "csharp"
    }
   },
   "outputs": [],
   "source": [
    "Создать базовый класс Item в C#, который будет представлять информацию о\n",
    "товарах, которые могут быть заказаны или возвращены. На основе этого класса\n",
    "разработать 2-3 производных класса, демонстрирующих принципы наследования и\n",
    "полиморфизма. В каждом из классов должны быть реализованы новые атрибуты и\n",
    "методы, а также переопределены некоторые методы базового класса для\n",
    "демонстрации полиморфизма"
   ]
  },
  {
   "cell_type": "markdown",
   "metadata": {},
   "source": [
    "<h2 style=\"color:DodgerBlue\">Реализация:</h2>\n",
    "\n",
    "----"
   ]
  },
  {
   "cell_type": "code",
   "execution_count": 2,
   "metadata": {
    "dotnet_interactive": {
     "language": "csharp"
    },
    "polyglot_notebook": {
     "kernelName": "csharp"
    }
   },
   "outputs": [],
   "source": [
    "using System;\n",
    "\n",
    "public class Item\n",
    "{\n",
    "    public int ItemId { get; set; }\n",
    "    public string Name { get; set; }\n",
    "    public decimal Price { get; set; }\n",
    "\n",
    "    public Item(int itemId, string name, decimal price)\n",
    "    {\n",
    "        ItemId = itemId;\n",
    "        Name = name;\n",
    "        Price = price;\n",
    "    }\n",
    "\n",
    "    public virtual void GetDetails()\n",
    "    {\n",
    "        Console.WriteLine($\"ID товара: {ItemId}, Название: {Name}, Цена: {Price:C}\");\n",
    "    }\n",
    "\n",
    "    public virtual decimal CalculateDiscount()\n",
    "    {\n",
    "        return 0;\n",
    "    }\n",
    "\n",
    "    public virtual void ApplyDiscount(decimal discount)\n",
    "    {\n",
    "        Price -= discount;\n",
    "    }\n",
    "\n",
    "    public void ComparePrice(Item otherItem)\n",
    "    {\n",
    "        if (this.Price > otherItem.Price)\n",
    "        {\n",
    "            Console.WriteLine($\"{this.Name} дороже, чем {otherItem.Name}\");\n",
    "        }\n",
    "        else if (this.Price < otherItem.Price)\n",
    "        {\n",
    "            Console.WriteLine($\"{this.Name} дешевле, чем {otherItem.Name}\");\n",
    "        }\n",
    "        else\n",
    "        {\n",
    "            Console.WriteLine($\"{this.Name} и {otherItem.Name} стоят одинаково\");\n",
    "        }\n",
    "    }\n",
    "}\n",
    "public class SingleItem : Item\n",
    "{\n",
    "    public string UnitMeasure { get; set; }\n",
    "\n",
    "    public SingleItem(int itemId, string name, decimal price, string unitMeasure)\n",
    "        : base(itemId, name, price)\n",
    "    {\n",
    "        UnitMeasure = unitMeasure;\n",
    "    }\n",
    "\n",
    "    public override void GetDetails()\n",
    "    {\n",
    "        base.GetDetails();\n",
    "        Console.WriteLine($\"Единица измерения: {UnitMeasure}\");\n",
    "    }\n",
    "}\n",
    "public class PackageItem : Item\n",
    "{\n",
    "    public int QuantityPerPackage { get; set; }\n",
    "\n",
    "    public PackageItem(int itemId, string name, decimal price, int quantityPerPackage)\n",
    "        : base(itemId, name, price)\n",
    "    {\n",
    "        QuantityPerPackage = quantityPerPackage;\n",
    "    }\n",
    "\n",
    "    public override decimal CalculateDiscount()\n",
    "    {\n",
    "        return Price * QuantityPerPackage * 0.1m;\n",
    "    }\n",
    "\n",
    "    public override void GetDetails()\n",
    "    {\n",
    "        base.GetDetails();\n",
    "        Console.WriteLine($\"Количество в упаковке: {QuantityPerPackage}\");\n",
    "    }\n",
    "}\n",
    "public class SpecialItem : Item\n",
    "{\n",
    "    public DateTime DiscountExpirationDate { get; set; }\n",
    "\n",
    "    \n",
    "    public SpecialItem(int itemId, string name, decimal price, DateTime discountExpirationDate)\n",
    "        : base(itemId, name, price)\n",
    "    {\n",
    "        DiscountExpirationDate = discountExpirationDate;\n",
    "    }\n",
    "\n",
    "    public override void ApplyDiscount(decimal discount)\n",
    "    {\n",
    "        base.ApplyDiscount(discount);\n",
    "        Console.WriteLine($\"Скидка истекает: {DiscountExpirationDate:D}\");\n",
    "    }\n",
    "\n",
    "    public override void GetDetails()\n",
    "    {\n",
    "        base.GetDetails();\n",
    "        Console.WriteLine($\"Скидка истекает: {DiscountExpirationDate:D}\");\n",
    "    }\n",
    "}\n",
    "\n",
    "{\n",
    "    // Создаем SingleItem\n",
    "        SingleItem singleItem = new SingleItem(1, \"Яблоко\", 0.5m, \"шт\");\n",
    "\n",
    "        // Выводим детали SingleItem\n",
    "        Console.WriteLine(\"Детали SingleItem:\");\n",
    "        singleItem.GetDetails();\n",
    "        Console.WriteLine();\n",
    "\n",
    "        // Создаем PackageItem\n",
    "        PackageItem packageItem = new PackageItem(2, \"Апельсин\", 1.0m, 10);\n",
    "\n",
    "        // Рассчитываем и применяем скидку для PackageItem\n",
    "        decimal packageDiscount = packageItem.CalculateDiscount();\n",
    "        packageItem.ApplyDiscount(packageDiscount);\n",
    "\n",
    "        // Выводим детали PackageItem\n",
    "        Console.WriteLine(\"Детали PackageItem:\");\n",
    "        packageItem.GetDetails();\n",
    "        Console.WriteLine();\n",
    "\n",
    "        // Создаем SpecialItem\n",
    "        SpecialItem specialItem = new SpecialItem(3, \"Банан\", 0.75m, DateTime.Now.AddDays(7));\n",
    "\n",
    "        // Применяем пользовательскую скидку для SpecialItem\n",
    "        specialItem.ApplyDiscount(0.25m);\n",
    "\n",
    "        // Выводим детали SpecialItem\n",
    "        Console.WriteLine(\"Детали SpecialItem:\");\n",
    "        specialItem.GetDetails();\n",
    "        Console.WriteLine();\n",
    "\n",
    "        // Сравниваем цены товаров\n",
    "        singleItem.ComparePrice(packageItem);\n",
    "        packageItem.ComparePrice(specialItem);\n",
    "        specialItem.ComparePrice(singleItem);\n",
    "    }\n",
    "\n"
   ]
  }
 ],
 "metadata": {
  "kernelspec": {
   "display_name": ".NET (C#)",
   "language": "C#",
   "name": ".net-csharp"
  },
  "polyglot_notebook": {
   "kernelInfo": {
    "defaultKernelName": "csharp",
    "items": [
     {
      "aliases": [],
      "languageName": "csharp",
      "name": "csharp"
     }
    ]
   }
  }
 },
 "nbformat": 4,
 "nbformat_minor": 2
}
