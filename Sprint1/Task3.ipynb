{
 "cells": [
  {
   "cell_type": "markdown",
   "metadata": {},
   "source": [
    "<h1 style=\"color:DodgerBlue\">Индивидальный проект</h1>"
   ]
  },
  {
   "cell_type": "markdown",
   "metadata": {},
   "source": [
    "<h2 style=\"color:DodgerBlue\">Название проекта:</h2>\n",
    "\n",
    "----\n",
    "\n",
    "### Вариант задания \n",
    "12\n"
   ]
  },
  {
   "cell_type": "markdown",
   "metadata": {},
   "source": [
    "<h2 style=\"color:DodgerBlue\">Описание проекта:</h2>\n",
    "\n",
    "----\n",
    "\n",
    "[ваш текст]\n",
    "Создать базовый класс Item в C#, который будет представлять информацию о товарах, которые могут быть заказаны или возвращены. На основе этого класса разработать 2-3 производных класса, демонстрирующих принципы наследования и полиморфизма. В каждом из классов должны быть реализованы новые атрибуты и методы, а также переопределены некоторые методы базового класса для демонстрации полиморфизма\n",
    "\n",
    "\n",
    "#### Дополнительное задание\n",
    "Добавьте к сущестующим классам конструктора классов с использованием гетторов и сетторов и реализуйте взаимодействие объектов между собой"
   ]
  },
  {
   "cell_type": "markdown",
   "metadata": {},
   "source": [
    "<h2 style=\"color:DodgerBlue\">Реализация:</h2>\n",
    "\n",
    "----"
   ]
  },
  {
   "cell_type": "code",
   "execution_count": 1,
   "metadata": {
    "dotnet_interactive": {
     "language": "csharp"
    },
    "polyglot_notebook": {
     "kernelName": "csharp"
    }
   },
   "outputs": [],
   "source": [
    "using System;\n",
    "\n",
    "public class Item\n",
    "{\n",
    "    public int ItemId { get; set; }\n",
    "    public string Name { get; set; }\n",
    "    public decimal Price { get; set; }\n",
    "\n",
    "    public virtual void GetDetails()\n",
    "    {\n",
    "        Console.WriteLine($\"ID товара: {ItemId}, Название: {Name}, Цена: {Price:C}\");\n",
    "    }\n",
    "\n",
    "    public virtual decimal CalculateDiscount()\n",
    "    {\n",
    "        return 0;\n",
    "    }\n",
    "\n",
    "    public virtual void ApplyDiscount(decimal discount)\n",
    "    {\n",
    "        Price -= discount;\n",
    "    }\n",
    "}\n",
    "\n",
    "public class SingleItem : Item\n",
    "{\n",
    "    public string UnitMeasure { get; set; }\n",
    "\n",
    "    public override void GetDetails()\n",
    "    {\n",
    "        base.GetDetails();\n",
    "        Console.WriteLine($\"Еденица измерения: {UnitMeasure}\");\n",
    "    }\n",
    "}\n",
    "\n",
    "public class PackageItem : Item\n",
    "{\n",
    "    public int QuantityPerPackage { get; set; }\n",
    "\n",
    "    public override decimal CalculateDiscount()\n",
    "    {\n",
    "        return (Price * QuantityPerPackage) * 0.7m;\n",
    "    }\n",
    "}\n",
    "\n",
    "public class SpecialItem : Item\n",
    "{\n",
    "    public DateTime DiscountExpirationDate { get; set; }\n",
    "\n",
    "    public override void ApplyDiscount(decimal discount)\n",
    "    {\n",
    "        base.ApplyDiscount(discount);\n",
    "        Console.WriteLine($\"Скидка истекает: {DiscountExpirationDate:D}\");\n",
    "    }\n",
    "}\n",
    "Item item = new Item{\n",
    "    ItemId=12345,\n",
    "    Name=\"молоко\",\n",
    "    Price=50.0m\n",
    "};\n",
    "item.GetDetails();\n",
    "\n",
    "\n",
    "SingleItem singleItem = new SingleItem{\n",
    "    ItemId=123,\n",
    "    Name=\"вода\",\n",
    "    Price=30.0m,\n",
    "    UnitMeasure=\"литры\"\n",
    "};\n",
    "singleItem.GetDetails();\n",
    "\n",
    "PackageItem packageItem = new PackageItem{\n",
    "    ItemId=1111,\n",
    "    Name=\"чипсы\",\n",
    "    Price=80.7m,\n",
    "    QuantityPerPackage=100\n",
    "};\n",
    "packageItem.GetDetails();\n",
    "Console.WriteLine(packageItem.CalculateDiscount());\n",
    "\n",
    "SpecialItem specialItem = new SpecialItem{\n",
    "    ItemId=5555,\n",
    "    Name=\"телефон\",\n",
    "    Price=45000.4m,\n",
    "    DiscountExpirationDate=DateTime.Now\n",
    "};\n",
    "specialItem.GetDetails();\n",
    "specialItem.ApplyDiscount(0.7m);"
   ]
  }
 ],
 "metadata": {
  "kernelspec": {
   "display_name": ".NET (C#)",
   "language": "C#",
   "name": ".net-csharp"
  },
  "polyglot_notebook": {
   "kernelInfo": {
    "defaultKernelName": "csharp",
    "items": [
     {
      "aliases": [],
      "languageName": "csharp",
      "name": "csharp"
     }
    ]
   }
  }
 },
 "nbformat": 4,
 "nbformat_minor": 2
}
