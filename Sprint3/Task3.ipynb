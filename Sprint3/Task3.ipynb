{
 "cells": [
  {
   "cell_type": "markdown",
   "metadata": {},
   "source": [
    "<h1 style=\"color:DodgerBlue\">Индивидальный проект</h1>"
   ]
  },
  {
   "cell_type": "markdown",
   "metadata": {},
   "source": [
    "<h2 style=\"color:DodgerBlue\">Название проекта:</h2>\n",
    "\n",
    "----\n",
    "\n",
    "### Вариант задания \n"
   ]
  },
  {
   "cell_type": "markdown",
   "metadata": {},
   "source": [
    "<h2 style=\"color:DodgerBlue\">Описание проекта:</h2>\n",
    "\n",
    "----\n",
    "\n",
    "[ваш текст]\n",
    "\n",
    "#### Дополнительное задание\n",
    "Добавьте к сущестующим классам (базовыму и производным 3-4 атрибута и метода) и реализуйте полиморфизм с перекрытием и прегегрузкой методов, а также generic классы"
   ]
  },
  {
   "cell_type": "markdown",
   "metadata": {},
   "source": [
    "<h2 style=\"color:DodgerBlue\">Реализация:</h2>\n",
    "\n",
    "----"
   ]
  },
  {
   "cell_type": "code",
   "execution_count": null,
   "metadata": {
    "dotnet_interactive": {
     "language": "csharp"
    },
    "polyglot_notebook": {
     "kernelName": "csharp"
    }
   },
   "outputs": [
    {
     "name": "stdout",
     "output_type": "stream",
     "text": [
      "ID: 1, Рейтинг: 5, Хороший сервис, Дата посещения: 12/6/2024 8:50:06 PM, Отзыв оставлен: Алиса, 12/6/2024 8:50:06 PM, Тип услуги: Клининг, Проверенный: True, Полезные голоса: 0\n",
      "Я рекомендую данную услугу: Клининг.\n",
      "ID: 2, Рейтинг: 4, Хороший продукт, Отзыв оставлен: Макс, 12/6/2024 8:50:06 PM, Ответ: \n",
      "Рейтинг продукта ID: 123 из категории Электроника изменен на 5\n",
      "Ваш отзыв: Отличный продукт!\n",
      "ID: 2, Рейтинг: 5, Хороший продукт, Отзыв оставлен: Макс, 12/6/2024 8:50:06 PM, Ответ: Отличный продукт!\n",
      "Вы также можете выбрать другой продукт из категории Электроника.\n",
      "ID: 3, Рейтинг: 5, Хорошие услуги, Отзыв оставлен: Володя, 12/6/2024 8:50:06 PM, Ответ: , Время начала оказания услуги: 10:00:00\n",
      "\n",
      "Все отзывы:\n",
      "ID: 1, Рейтинг: 5, Хороший сервис, Дата посещения: 12/6/2024 8:50:06 PM, Отзыв оставлен: Алиса, 12/6/2024 8:50:06 PM, Тип услуги: Клининг, Проверенный: True, Полезные голоса: 0\n",
      "ID: 2, Рейтинг: 5, Хороший продукт, Проверенный: True, Полезные голоса: 0\n",
      "ID: 3, Рейтинг: 5, Хорошие услуги, Дата посещения: 12/6/2024 8:50:06 PM, Отзыв оставлен: Володя, 12/6/2024 8:50:06 PM, Тип услуги: Ремонт, Проверенный: False, Полезные голоса: 0\n"
     ]
    }
   ],
   "source": [
    "using System;\n",
    "\n",
    "public abstract class Review\n",
    "{\n",
    "    public int ReviewId { get; set; }\n",
    "    public string Text { get; set; }\n",
    "    public int Rating { get; set; }\n",
    "    public string ReviewerName { get; set; }\n",
    "    public DateTime ReviewDate { get; set; }\n",
    "    public bool IsVerified { get; set; }\n",
    "    public string Response { get; set; }\n",
    "    public int HelpfulVotes { get; set; }\n",
    "    public Review(int reviewId, string text, int rating, string reviewerName, bool isVerified = false)\n",
    "    {\n",
    "        ReviewId = reviewId;\n",
    "        Text = text;\n",
    "        Rating = rating;\n",
    "        ReviewerName = reviewerName;\n",
    "        ReviewDate = DateTime.Now;\n",
    "        IsVerified = isVerified;\n",
    "        HelpfulVotes = 0;\n",
    "    }\n",
    "    public virtual void DisplayReview()\n",
    "    {\n",
    "        Console.WriteLine($\"ID: {ReviewId}, Рейтинг: {Rating}, {Text}, Проверенный: {IsVerified}, Полезные голоса: {HelpfulVotes}\");\n",
    "    }\n",
    "    public virtual void RateProduct(int rating)\n",
    "    {\n",
    "        Rating = rating;\n",
    "    }\n",
    "    public virtual string GetReviewDetails()\n",
    "    {\n",
    "        return $\"ID: {ReviewId}, Рейтинг: {Rating}, {Text}, Отзыв оставлен: {ReviewerName}, {ReviewDate}, Ответ: {Response}\";\n",
    "    }\n",
    "    public virtual void EditReview(string newText)\n",
    "    {\n",
    "        Text = newText;\n",
    "    }\n",
    "    public void Upvote()\n",
    "    {\n",
    "        HelpfulVotes++;\n",
    "    }\n",
    "}\n",
    "\n",
    "public class ServiceReview : Review\n",
    "{\n",
    "    public DateTime VisitDate { get; set; }\n",
    "    public string ServiceType { get; set; }\n",
    "    public ServiceReview(int reviewId, string text, int rating, string reviewerName, DateTime visitDate, string serviceType, bool isVerified = false)\n",
    "        : base(reviewId, text, rating, reviewerName, isVerified)\n",
    "    {\n",
    "        VisitDate = visitDate;\n",
    "        ServiceType = serviceType;\n",
    "    }\n",
    "    public override void DisplayReview()\n",
    "    {\n",
    "        Console.WriteLine($\"ID: {ReviewId}, Рейтинг: {Rating}, {Text}, Дата посещения: {VisitDate}, Отзыв оставлен: {ReviewerName}, {ReviewDate}, Тип услуги: {ServiceType}, Проверенный: {IsVerified}, Полезные голоса: {HelpfulVotes}\");\n",
    "    }\n",
    "    public void RecommendService()\n",
    "    {\n",
    "        Console.WriteLine($\"Я рекомендую данную услугу: {ServiceType}.\");\n",
    "    }\n",
    "}\n",
    "\n",
    "public class ProductReview : Review\n",
    "{\n",
    "    public int ProductId { get; set; }\n",
    "    public string ProductCategory { get; set; }\n",
    "    public ProductReview(int reviewId, string text, int rating, string reviewerName, int productId, string productCategory, bool isVerified = false)\n",
    "        : base(reviewId, text, rating, reviewerName, isVerified)\n",
    "    {\n",
    "        ProductId = productId;\n",
    "        ProductCategory = productCategory;\n",
    "    }\n",
    "    public override void RateProduct(int rating)\n",
    "    {\n",
    "        base.RateProduct(rating);\n",
    "        Console.WriteLine($\"Рейтинг продукта ID: {ProductId} из категории {ProductCategory} изменен на {Rating}\");\n",
    "    }\n",
    "    public void SuggestSimilarProducts()\n",
    "    {\n",
    "        Console.WriteLine($\"Вы также можете выбрать другой продукт из категории {ProductCategory}.\");\n",
    "    }\n",
    "    public void RateProduct(int rating, string feedback)\n",
    "    {\n",
    "        RateProduct(rating);\n",
    "        Response = feedback;\n",
    "        Console.WriteLine($\"Ваш отзыв: {Response}\");\n",
    "    }\n",
    "}\n",
    "\n",
    "public class ServiceReviewWithStartTime : ServiceReview\n",
    "{\n",
    "    public TimeSpan StartTime { get; set; }\n",
    "    public ServiceReviewWithStartTime(int reviewId, string text, int rating, string reviewerName, DateTime visitDate, string serviceType, TimeSpan startTime, bool isVerified = false)\n",
    "        : base(reviewId, text, rating, reviewerName, visitDate, serviceType, isVerified)\n",
    "    {\n",
    "        StartTime = startTime;\n",
    "    }\n",
    "    public override string GetReviewDetails()\n",
    "    {\n",
    "        return base.GetReviewDetails() + $\", Время начала оказания услуги: {StartTime}\";\n",
    "    }\n",
    "}\n",
    "\n",
    "public class ReviewCollection<T> where T : Review\n",
    "{\n",
    "    private List<T> reviews = new List<T>();\n",
    "    public void AddReview(T review)\n",
    "    {\n",
    "        reviews.Add(review);\n",
    "    }\n",
    "    public void DisplayAllReviews()\n",
    "    {\n",
    "        foreach (var review in reviews)\n",
    "        {\n",
    "            review.DisplayReview();\n",
    "        }\n",
    "    }\n",
    "    public T GetReviewById(int reviewId)\n",
    "    {\n",
    "        return reviews.FirstOrDefault(r => r.ReviewId == reviewId);\n",
    "    }\n",
    "}\n",
    "\n",
    "ServiceReview serviceReview = new ServiceReview(1, \"Хороший сервис\", 5, \"Алиса\", DateTime.Now, \"Клининг\", true);\n",
    "serviceReview.DisplayReview();\n",
    "serviceReview.RecommendService();\n",
    "ProductReview productReview = new ProductReview(2, \"Хороший продукт\", 4, \"Макс\", 123, \"Электроника\", true);\n",
    "Console.WriteLine(productReview.GetReviewDetails());\n",
    "productReview.RateProduct(5, \"Отличный продукт!\");\n",
    "Console.WriteLine(productReview.GetReviewDetails());\n",
    "productReview.SuggestSimilarProducts();\n",
    "ServiceReviewWithStartTime serviceReviewWithStartTime = new ServiceReviewWithStartTime(3, \"Хорошие услуги\", 5, \"Володя\", DateTime.Now, \"Ремонт\", TimeSpan.FromHours(10), false);\n",
    "Console.WriteLine(serviceReviewWithStartTime.GetReviewDetails());\n",
    "\n",
    "// Использование generic класса\n",
    "ReviewCollection<Review> reviewCollection = new ReviewCollection<Review>();\n",
    "reviewCollection.AddReview(serviceReview);\n",
    "reviewCollection.AddReview(productReview);\n",
    "reviewCollection.AddReview(serviceReviewWithStartTime);\n",
    "Console.WriteLine(\"\\nВсе отзывы:\");\n",
    "reviewCollection.DisplayAllReviews();"
   ]
  }
 ],
 "metadata": {
  "kernelspec": {
   "display_name": ".NET (C#)",
   "language": "C#",
   "name": ".net-csharp"
  },
  "polyglot_notebook": {
   "kernelInfo": {
    "defaultKernelName": "csharp",
    "items": [
     {
      "aliases": [],
      "languageName": "csharp",
      "name": "csharp"
     }
    ]
   }
  }
 },
 "nbformat": 4,
 "nbformat_minor": 2
}
